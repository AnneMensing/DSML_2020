{
 "cells": [
  {
   "cell_type": "markdown",
   "metadata": {},
   "source": [
    "# `DSML` - Workshop 02"
   ]
  },
  {
   "cell_type": "markdown",
   "metadata": {},
   "source": [
    "In this tutorial we will introduce the concept of python libraries and introduce a first such library - Numpy.\n",
    "\n",
    "We will go through the following:\n",
    "\n",
    "- Introduction to the concept of `Python Libraries`\n",
    "- Introduction to `Numpy`"
   ]
  },
  {
   "cell_type": "markdown",
   "metadata": {},
   "source": [
    "## `Python Libraries`"
   ]
  },
  {
   "cell_type": "markdown",
   "metadata": {},
   "source": [
    "**Introduction to Libraries**\n",
    "\n",
    "A library (or module, or package) is a Python object with arbitrarily named attributes that you can bind and reference. Simply, a module is a file consisting of Python code. A module can define functions, classes and variables. A module can also include runnable code.\n",
    "\n",
    "You can use any Python source file as a module by executing an import statement in some other Python source file. The import has the following syntax:\n",
    "\n",
    "\n",
    "```\n",
    "import <module name>\n",
    "```\n",
    "\n",
    "By convention is is common to name modules so they can be called by entering an abreviated name. This is effectively importing the module in the same way that `import <module name>` will do, with the only difference of it being available as ` <module name abbreviation>`. In the case of `numpy`, for example, the abbreviation `np`is used.\n",
    "\n",
    "```\n",
    "import <module name> as <module name abbreviation>\n",
    "```\n"
   ]
  },
  {
   "cell_type": "markdown",
   "metadata": {},
   "source": [
    "**Adding/Installing Libraries**\n",
    "\n",
    "To add Python libraries to your installation you can use the `conda` package manager that we have installed in the last workshop. Alternatively you can also use the `pip` package manager. The quickest way to do so is via a terminal:\n",
    "\n",
    "* If you are on a **Windows** computer, use the \"Anaconda Command Prompt\" from the Start menu. \n",
    "* On a **Mac**, start up the \"Terminal\". \n",
    "* In **Linux**, use any of the terminals available.\n",
    "\n",
    "\n",
    "The gerneral command syntax is the following:\n",
    "\n",
    "```\n",
    "conda install <package name>\n",
    "```\n",
    "\n",
    "If you are looking for a specific package but are unsure of the exact command line name do a quick google search and/or check the [Anaconda Cloud](https://anaconda.org)."
   ]
  },
  {
   "cell_type": "markdown",
   "metadata": {},
   "source": [
    "**Relevant Libraries for this course**\n",
    "\n",
    "There is a large variety of open source libraries available in Python. Below is a list of some of the most relevant ones for data science, which will be covered in this course.\n",
    "\n",
    "* Selected data science libraries\n",
    "\n",
    "    * Data Analysis and Processing\n",
    "    >* Pandas (pd)\n",
    "    >* Numpy (np)\n",
    "    * Visualization        \n",
    "    >* matplotlib and pyplot (plt)\n",
    "    >* seaborn (sns)\n",
    "    * Models and methods\n",
    "    >* sklearn\n",
    "    >* statsmodels"
   ]
  },
  {
   "cell_type": "markdown",
   "metadata": {},
   "source": [
    "---"
   ]
  },
  {
   "cell_type": "markdown",
   "metadata": {},
   "source": [
    "## `NumPy`"
   ]
  },
  {
   "cell_type": "markdown",
   "metadata": {},
   "source": [
    "NumPy is the fundamental package for scientific computing with Python. It contains among other things:\n",
    "\n",
    "- A powerful N-dimensional array object\n",
    "- Sophisticated (broadcasting) functions\n",
    "- Tools for integrating C/C++ and Fortran code\n",
    "- Useful linear algebra, Fourier transform, and random number capabilities\n",
    "\n",
    "Besides its obvious scientific uses, NumPy can also be used as an efficient multi-dimensional container of generic data. Arbitrary data-types can be defined. This allows NumPy to seamlessly and speedily integrate with a wide variety of databases.\n",
    "\n",
    "NumPy’s main object is the homogeneous multidimensional array. It is a table of elements (usually numbers), all of the same type, indexed by a tuple of positive integers. In NumPy dimensions are called axes. The number of axes is rank."
   ]
  },
  {
   "cell_type": "markdown",
   "metadata": {},
   "source": [
    "Let's get started..."
   ]
  },
  {
   "cell_type": "code",
   "execution_count": 119,
   "metadata": {},
   "outputs": [],
   "source": [
    "import numpy as np"
   ]
  },
  {
   "cell_type": "markdown",
   "metadata": {},
   "source": [
    "### Creating NumPy Arrays\n",
    "\n",
    "First, we can use `np.array` to create arrays from python lists. Unlike the Python lists, NumPy is constrained to arrays that all contain the same type. If types don't match, NumPy will upcast if possible. "
   ]
  },
  {
   "cell_type": "code",
   "execution_count": 120,
   "metadata": {},
   "outputs": [
    {
     "data": {
      "text/plain": [
       "array([1, 2, 3, 4, 5])"
      ]
     },
     "execution_count": 120,
     "metadata": {},
     "output_type": "execute_result"
    }
   ],
   "source": [
    "A = np.array([1,2,3,4,5])\n",
    "A"
   ]
  },
  {
   "cell_type": "code",
   "execution_count": 121,
   "metadata": {},
   "outputs": [
    {
     "data": {
      "text/plain": [
       "array([3.1, 5. , 4. , 6. ])"
      ]
     },
     "execution_count": 121,
     "metadata": {},
     "output_type": "execute_result"
    }
   ],
   "source": [
    "B = np.array([3.1, 5, 4, 6])\n",
    "B"
   ]
  },
  {
   "cell_type": "markdown",
   "metadata": {},
   "source": [
    "If we want to explicitly set the data type of the resulting array, we can use the `dtype` keyword."
   ]
  },
  {
   "cell_type": "code",
   "execution_count": 122,
   "metadata": {},
   "outputs": [
    {
     "name": "stdout",
     "output_type": "stream",
     "text": [
      "[1. 2. 3. 8.]\n"
     ]
    }
   ],
   "source": [
    "C = np.array([1,2,3,8],dtype = float)\n",
    "print (C)"
   ]
  },
  {
   "cell_type": "markdown",
   "metadata": {},
   "source": [
    "Other examples of creating arrays using np functions:"
   ]
  },
  {
   "cell_type": "code",
   "execution_count": 123,
   "metadata": {},
   "outputs": [
    {
     "name": "stdout",
     "output_type": "stream",
     "text": [
      "E = [0 0 0 0 0] \n",
      "\n",
      "F = [[1. 1. 1. 1.]\n",
      " [1. 1. 1. 1.]] \n",
      "\n",
      "G = [ 0  2  4  6  8 10] \n",
      "\n",
      "H = [0.   0.25 0.5  0.75 1.  ] \n",
      "\n",
      "I = [[0.89930441 0.85049069]\n",
      " [0.04698382 0.89827804]] \n",
      "\n",
      "J = [[[1 4]\n",
      "  [5 3]\n",
      "  [5 0]]\n",
      "\n",
      " [[2 6]\n",
      "  [0 9]\n",
      "  [6 9]]\n",
      "\n",
      " [[5 4]\n",
      "  [1 5]\n",
      "  [4 7]]\n",
      "\n",
      " [[7 4]\n",
      "  [1 8]\n",
      "  [1 2]]]\n"
     ]
    }
   ],
   "source": [
    "# create vector of length 5 filled with zeros\n",
    "E = np.zeros(5,dtype = int)\n",
    "\n",
    "# create 2x4 matrix of ones (float)\n",
    "F = np.ones((2,4), dtype= float)\n",
    "\n",
    "# create vector from 0-12 in steps of 2\n",
    "G = np.arange(0,12,2)\n",
    "\n",
    "# create vector from 0 to 1 with five equally (linearly) spaced elements \n",
    "H = np.linspace(0,1,5)\n",
    "\n",
    "# create a 2x2 matrix with random floats in the half-open interval [0.0, 1.0)\n",
    "I = np.random.random((2,2))\n",
    "\n",
    "#Return random integers from 0 (inclusive) to 10 (exclusive) of size (4,3,2)\n",
    "J = np.random.randint (0,10,(4,3,2))\n",
    "\n",
    "print(\"E =\", E,\n",
    "      \"\\n\\nF =\", F, \n",
    "      \"\\n\\nG =\", G, \n",
    "      \"\\n\\nH =\", H, \n",
    "      \"\\n\\nI =\", I, \n",
    "      \"\\n\\nJ =\", J)"
   ]
  },
  {
   "cell_type": "markdown",
   "metadata": {},
   "source": [
    "**Exercise**: Define a few additional NumPy Arrays using some or all of the commands introduced above"
   ]
  },
  {
   "cell_type": "code",
   "execution_count": 124,
   "metadata": {},
   "outputs": [],
   "source": [
    "# Your code here\n",
    "\n",
    "\n",
    "\n",
    "\n",
    "\n",
    "\n"
   ]
  },
  {
   "cell_type": "markdown",
   "metadata": {},
   "source": [
    "### Manipulating NumPy Arrays"
   ]
  },
  {
   "cell_type": "markdown",
   "metadata": {},
   "source": [
    "Data manipulation in Python is nearly synonymous with NumPy array manipulation. We will cover a few categories of basic array manipulations here:\n",
    "- **Attributes of arrays**: Determinig the size, shape, memory consumption and data type of arrays.\n",
    "- **Indexing of arrays**: Getting and setting the value of indivisual array elements.\n",
    "- **Slicing of arrays**: Getting and setting smaller subarrays within a larger array.\n",
    "- **Reshaping of arrays**: Changing the shape of a given array.\n",
    "- **Joining and splitting of arrays**: Combining multiple arrays into one, and splitting one array into many."
   ]
  },
  {
   "cell_type": "markdown",
   "metadata": {},
   "source": [
    "#### NumPy Array Attributes:\n",
    "In the following some examples on attributes are presented."
   ]
  },
  {
   "cell_type": "code",
   "execution_count": 125,
   "metadata": {},
   "outputs": [
    {
     "name": "stdout",
     "output_type": "stream",
     "text": [
      "E ndim:  1\n",
      "F sahpe:  (2, 4)\n",
      "J size:  24\n",
      "H dtype:  float64\n",
      "itemsize:  8  bytes\n",
      "nbytes:   32 bytes\n"
     ]
    }
   ],
   "source": [
    "# returns dimension\n",
    "print(\"E ndim: \", E.ndim)\n",
    "\n",
    "# returns shape\n",
    "print(\"F sahpe: \" , F.shape)\n",
    "\n",
    "# returns size (i.e. no of elements)\n",
    "print(\"J size: \", J.size)\n",
    "\n",
    "# returns data type\n",
    "print(\"H dtype: \", H.dtype)\n",
    "\n",
    "# returns length of one array element in bytes\n",
    "print(\"itemsize: \", I.itemsize,\" bytes\")\n",
    "\n",
    "# returns total bytes consumed by the elements of the array\n",
    "print(\"nbytes:  \", I.nbytes, \"bytes\")"
   ]
  },
  {
   "cell_type": "markdown",
   "metadata": {},
   "source": [
    "#### NumPy Array Indexing:\n",
    "In the following some examples on attributes are presented."
   ]
  },
  {
   "cell_type": "markdown",
   "metadata": {},
   "source": [
    "Accessing single elements:"
   ]
  },
  {
   "cell_type": "code",
   "execution_count": 126,
   "metadata": {},
   "outputs": [
    {
     "data": {
      "text/plain": [
       "array([1, 2, 3, 4, 5])"
      ]
     },
     "execution_count": 126,
     "metadata": {},
     "output_type": "execute_result"
    }
   ],
   "source": [
    "A"
   ]
  },
  {
   "cell_type": "code",
   "execution_count": 127,
   "metadata": {},
   "outputs": [
    {
     "name": "stdout",
     "output_type": "stream",
     "text": [
      "The 5th element of A is 5\n",
      "The last element of A is 5\n"
     ]
    }
   ],
   "source": [
    "print (\"The 5th element of A is {}\". format(A[4]))\n",
    "print (\"The last element of A is {}\". format(A[-1])) # index from the back"
   ]
  },
  {
   "cell_type": "markdown",
   "metadata": {},
   "source": [
    "In a multidimensional array (i.e. a matrix), you access items using a comma-seperated tuple of indices."
   ]
  },
  {
   "cell_type": "code",
   "execution_count": 128,
   "metadata": {},
   "outputs": [
    {
     "data": {
      "text/plain": [
       "array([[0.89930441, 0.85049069],\n",
       "       [0.04698382, 0.89827804]])"
      ]
     },
     "execution_count": 128,
     "metadata": {},
     "output_type": "execute_result"
    }
   ],
   "source": [
    "I"
   ]
  },
  {
   "cell_type": "code",
   "execution_count": 129,
   "metadata": {},
   "outputs": [
    {
     "name": "stdout",
     "output_type": "stream",
     "text": [
      "The first element of I is 0.8993044086325149\n",
      "The last element of I is 0.8982780353177644\n"
     ]
    }
   ],
   "source": [
    "print (\"The first element of I is {}\". format(I[0,0]))  #array[row,column]\n",
    "print (\"The last element of I is {}\". format(I[1,1]))   #array[row,column]"
   ]
  },
  {
   "cell_type": "markdown",
   "metadata": {},
   "source": [
    "**Exercise**: Play around with the techniques and commands introduced above and apply them to the previously defined arrays for practice"
   ]
  },
  {
   "cell_type": "code",
   "execution_count": 130,
   "metadata": {},
   "outputs": [],
   "source": [
    "# Your code here\n",
    "\n",
    "\n",
    "\n",
    "\n",
    "\n"
   ]
  },
  {
   "cell_type": "markdown",
   "metadata": {},
   "source": [
    "#### NumPy Array Slicing:\n",
    "\n",
    "**One-dimensional arrays**\n",
    "\n",
    "Just as we can use square brakets to access individual array elements, we can also use them to access subarrays with the slice notation, marked by the colon `:` character. The syntax is as follow:\n",
    "` X[start (incl.):stop (excl.):step]`"
   ]
  },
  {
   "cell_type": "code",
   "execution_count": 131,
   "metadata": {},
   "outputs": [
    {
     "data": {
      "text/plain": [
       "array([ 0,  2,  4,  6,  8, 10])"
      ]
     },
     "execution_count": 131,
     "metadata": {},
     "output_type": "execute_result"
    }
   ],
   "source": [
    "G"
   ]
  },
  {
   "cell_type": "code",
   "execution_count": 132,
   "metadata": {},
   "outputs": [
    {
     "name": "stdout",
     "output_type": "stream",
     "text": [
      "middle subarray: [4 6]\n",
      "First 3 elemnts: [0 2 4]\n",
      "Last 3 elements: [ 6  8 10]\n",
      "Every other element: [0 4 8]\n",
      "All elements reversed: [10  8  6  4  2  0]\n"
     ]
    }
   ],
   "source": [
    "# item 3 and 4\n",
    "print (\"middle subarray:\", G[2:4])\n",
    "\n",
    "# item 1 to 4(excl.)\n",
    "print(\"First 3 elemnts:\", G[:3])\n",
    "\n",
    "# last 3\n",
    "print(\"Last 3 elements:\", G[-3:] )\n",
    "\n",
    "# first element and every second from there\n",
    "print(\"Every other element:\", G[::2])\n",
    "\n",
    "\n",
    "print (\"All elements reversed:\", G[::-1])"
   ]
  },
  {
   "cell_type": "markdown",
   "metadata": {},
   "source": [
    "**Multi-dimensional arrays**\n",
    "\n",
    "Multi-dimensional slices work in the same way, with multiple slices seperated by commas. The command is `X[slice row, slice column]`"
   ]
  },
  {
   "cell_type": "code",
   "execution_count": 133,
   "metadata": {},
   "outputs": [
    {
     "data": {
      "text/plain": [
       "array([[10, 11, 13,  5],\n",
       "       [14,  2,  1, 16],\n",
       "       [17,  1, 17,  0]])"
      ]
     },
     "execution_count": 133,
     "metadata": {},
     "output_type": "execute_result"
    }
   ],
   "source": [
    "# create a multi-dimensional array\n",
    "K = np.random.randint(0,20, (3,4))\n",
    "K"
   ]
  },
  {
   "cell_type": "code",
   "execution_count": 134,
   "metadata": {},
   "outputs": [
    {
     "name": "stdout",
     "output_type": "stream",
     "text": [
      "The first two rows and the first three column: \n",
      " [[10 11 13]\n",
      " [14  2  1]]\n"
     ]
    }
   ],
   "source": [
    "print (\"The first two rows and the first three column: \\n\", K[:2,:3])"
   ]
  },
  {
   "cell_type": "code",
   "execution_count": 135,
   "metadata": {},
   "outputs": [
    {
     "name": "stdout",
     "output_type": "stream",
     "text": [
      "All rows and every other column:\n",
      " [[10 13]\n",
      " [14  1]\n",
      " [17 17]]\n"
     ]
    }
   ],
   "source": [
    "print(\"All rows and every other column:\\n\", K[:,::2])"
   ]
  },
  {
   "cell_type": "code",
   "execution_count": 136,
   "metadata": {},
   "outputs": [
    {
     "name": "stdout",
     "output_type": "stream",
     "text": [
      "Reversed:\n",
      " [[ 0 17  1 17]\n",
      " [16  1  2 14]\n",
      " [ 5 13 11 10]]\n"
     ]
    }
   ],
   "source": [
    "print(\"Reversed:\\n\",K[::-1,::-1] )"
   ]
  },
  {
   "cell_type": "markdown",
   "metadata": {},
   "source": [
    "**Exercise**: Familiarize yourself with indexing by attempting some indexing techniques on the arrays defined above"
   ]
  },
  {
   "cell_type": "code",
   "execution_count": 137,
   "metadata": {},
   "outputs": [],
   "source": [
    "# Your code here\n",
    "\n",
    "\n",
    "\n",
    "\n",
    "\n",
    "\n"
   ]
  },
  {
   "cell_type": "markdown",
   "metadata": {},
   "source": [
    "#### NumPy Array Reshaping:\n",
    "\n",
    "Another useful type of operation is reshaping of arrays. The most flexible way of doing this is with the reshape method. Note that for this to work, the size of the initial array must match the size of the reshaped array."
   ]
  },
  {
   "cell_type": "code",
   "execution_count": 138,
   "metadata": {},
   "outputs": [
    {
     "data": {
      "text/plain": [
       "array([ 1,  2,  3,  4,  5,  6,  7,  8,  9, 10, 11, 12, 13, 14, 15, 16, 17,\n",
       "       18, 19, 20, 21, 22, 23, 24])"
      ]
     },
     "execution_count": 138,
     "metadata": {},
     "output_type": "execute_result"
    }
   ],
   "source": [
    "Y = np.arange(1,25)\n",
    "Y"
   ]
  },
  {
   "cell_type": "code",
   "execution_count": 139,
   "metadata": {},
   "outputs": [
    {
     "data": {
      "text/plain": [
       "24"
      ]
     },
     "execution_count": 139,
     "metadata": {},
     "output_type": "execute_result"
    }
   ],
   "source": [
    "Y.size"
   ]
  },
  {
   "cell_type": "code",
   "execution_count": 140,
   "metadata": {},
   "outputs": [
    {
     "data": {
      "text/plain": [
       "array([[ 1,  2,  3,  4],\n",
       "       [ 5,  6,  7,  8],\n",
       "       [ 9, 10, 11, 12],\n",
       "       [13, 14, 15, 16],\n",
       "       [17, 18, 19, 20],\n",
       "       [21, 22, 23, 24]])"
      ]
     },
     "execution_count": 140,
     "metadata": {},
     "output_type": "execute_result"
    }
   ],
   "source": [
    "# we can re-shape this array into any shape with 24 elements\n",
    "\n",
    "Y.reshape(6,4)"
   ]
  },
  {
   "cell_type": "markdown",
   "metadata": {},
   "source": [
    "#### NumPy Array Concatenation and Splitting\n",
    "\n",
    "All of the preceding routines worked on single arrays. It's also possible to combine multiple arrays into one, and to conversely split a single array into multiple arrays."
   ]
  },
  {
   "cell_type": "markdown",
   "metadata": {},
   "source": [
    "**Concatination of arrays**\n",
    "\n",
    "Concatenation, or joining of two arrays in NumPy, is primarily accomplished using the routine `np.concatenate`. Additionally `np.vstack`, and `np.hstack` may be used."
   ]
  },
  {
   "cell_type": "code",
   "execution_count": 141,
   "metadata": {},
   "outputs": [
    {
     "data": {
      "text/plain": [
       "array([1, 2, 3, 4, 5, 6])"
      ]
     },
     "execution_count": 141,
     "metadata": {},
     "output_type": "execute_result"
    }
   ],
   "source": [
    "P = np.array([1,2,3])\n",
    "Q = np.array([4,5,6])\n",
    "np.concatenate((P,Q))"
   ]
  },
  {
   "cell_type": "code",
   "execution_count": 142,
   "metadata": {},
   "outputs": [],
   "source": [
    "#The axis along which the arrays will be joined.\n",
    "R = np.array([[3,5,7],[1,3,5]])\n",
    "S = np.array([[2,4,2],[0,9,8]])"
   ]
  },
  {
   "cell_type": "code",
   "execution_count": 143,
   "metadata": {},
   "outputs": [
    {
     "data": {
      "text/plain": [
       "array([[3, 5, 7],\n",
       "       [1, 3, 5]])"
      ]
     },
     "execution_count": 143,
     "metadata": {},
     "output_type": "execute_result"
    }
   ],
   "source": [
    "R"
   ]
  },
  {
   "cell_type": "code",
   "execution_count": 144,
   "metadata": {},
   "outputs": [
    {
     "data": {
      "text/plain": [
       "array([[2, 4, 2],\n",
       "       [0, 9, 8]])"
      ]
     },
     "execution_count": 144,
     "metadata": {},
     "output_type": "execute_result"
    }
   ],
   "source": [
    "S"
   ]
  },
  {
   "cell_type": "code",
   "execution_count": 145,
   "metadata": {},
   "outputs": [
    {
     "name": "stdout",
     "output_type": "stream",
     "text": [
      "[[3 5 7 2 4 2]\n",
      " [1 3 5 0 9 8]]\n"
     ]
    }
   ],
   "source": [
    "print (np.concatenate((R,S), axis = 1))"
   ]
  },
  {
   "cell_type": "markdown",
   "metadata": {},
   "source": [
    "For working with arrays of mixed dimensions, it can be more practical to use the `np.vstack` (vertical stack) and `np.hstack` (horizontal stack) functions:"
   ]
  },
  {
   "cell_type": "code",
   "execution_count": 146,
   "metadata": {},
   "outputs": [],
   "source": [
    "R = np.array([[3,5,7],[1,3,5]])\n",
    "S = np.array([[2,4,2],[0,9,8]])"
   ]
  },
  {
   "cell_type": "code",
   "execution_count": 147,
   "metadata": {},
   "outputs": [
    {
     "data": {
      "text/plain": [
       "array([[3, 5, 7],\n",
       "       [1, 3, 5],\n",
       "       [2, 4, 2],\n",
       "       [0, 9, 8]])"
      ]
     },
     "execution_count": 147,
     "metadata": {},
     "output_type": "execute_result"
    }
   ],
   "source": [
    "# stack row-wise\n",
    "np.vstack((R,S))"
   ]
  },
  {
   "cell_type": "code",
   "execution_count": 148,
   "metadata": {},
   "outputs": [
    {
     "data": {
      "text/plain": [
       "array([[3, 5, 7, 2, 4, 2],\n",
       "       [1, 3, 5, 0, 9, 8]])"
      ]
     },
     "execution_count": 148,
     "metadata": {},
     "output_type": "execute_result"
    }
   ],
   "source": [
    "# stack column-wise\n",
    "np.hstack((R,S))"
   ]
  },
  {
   "cell_type": "markdown",
   "metadata": {},
   "source": [
    "**Splitting of arrays**\n",
    "\n",
    "The opposite of concatenation is splitting, which is implemented by the functions `np.split`, `np.hsplit`, and `np.vsplit`. For each of these, we can pass a list of indices giving the split points:"
   ]
  },
  {
   "cell_type": "code",
   "execution_count": 149,
   "metadata": {},
   "outputs": [
    {
     "name": "stdout",
     "output_type": "stream",
     "text": [
      "[2 4 6] [7 8 9] [ 1  3 11] [35 55 34]\n"
     ]
    }
   ],
   "source": [
    "# Devides the x array to 4 equal subarrays.\n",
    "x = np.array([2,4,6,7,8,9,1,3,11,35,55,34])\n",
    "x1, x2, x3, x4 = np.split(x,4)\n",
    "print(x1, x2, x3, x4)"
   ]
  },
  {
   "cell_type": "code",
   "execution_count": 150,
   "metadata": {},
   "outputs": [
    {
     "data": {
      "text/plain": [
       "array([[ 0,  1,  2,  3],\n",
       "       [ 4,  5,  6,  7],\n",
       "       [ 8,  9, 10, 11],\n",
       "       [12, 13, 14, 15]])"
      ]
     },
     "execution_count": 150,
     "metadata": {},
     "output_type": "execute_result"
    }
   ],
   "source": [
    "Z = np.arange(16).reshape((4, 4))\n",
    "Z"
   ]
  },
  {
   "cell_type": "code",
   "execution_count": 151,
   "metadata": {},
   "outputs": [
    {
     "name": "stdout",
     "output_type": "stream",
     "text": [
      "upper: \n",
      " [[0 1 2 3]\n",
      " [4 5 6 7]]\n",
      "lower: \n",
      " [[ 8  9 10 11]\n",
      " [12 13 14 15]]\n"
     ]
    }
   ],
   "source": [
    "#Splits an array into multiple sub-arrays vertically (row-wise).\n",
    "upper, lower = np.vsplit(Z, 2)\n",
    "print(\"upper: \\n\",upper)\n",
    "print(\"lower: \\n\",lower)"
   ]
  },
  {
   "cell_type": "code",
   "execution_count": 152,
   "metadata": {},
   "outputs": [
    {
     "name": "stdout",
     "output_type": "stream",
     "text": [
      "left: \n",
      " [[ 0  1]\n",
      " [ 4  5]\n",
      " [ 8  9]\n",
      " [12 13]]\n",
      "right: \n",
      " [[ 2  3]\n",
      " [ 6  7]\n",
      " [10 11]\n",
      " [14 15]]\n"
     ]
    }
   ],
   "source": [
    "#Splits an array into multiple sub-arrays vertically (row-wise).\n",
    "upper, lower = np.hsplit(Z, 2)\n",
    "print(\"left: \\n\",upper)\n",
    "print(\"right: \\n\",lower)"
   ]
  },
  {
   "cell_type": "markdown",
   "metadata": {},
   "source": [
    "**Exercise**: Create a few arrays and cincantenate them, afterwards split them to arrive at the original arrays"
   ]
  },
  {
   "cell_type": "code",
   "execution_count": 153,
   "metadata": {},
   "outputs": [],
   "source": [
    "# Your code here\n",
    "\n",
    "\n",
    "\n",
    "\n",
    "\n",
    "\n"
   ]
  },
  {
   "cell_type": "markdown",
   "metadata": {},
   "source": [
    "### Array Operations\n",
    "\n",
    "Numpy also allows for linear algebra matrix-type operations, which are a key component of scientifiy computing tasks."
   ]
  },
  {
   "cell_type": "code",
   "execution_count": 154,
   "metadata": {},
   "outputs": [],
   "source": [
    "A = np.array([1,2,3,4])\n",
    "B = np.array([9,3,-9,1])"
   ]
  },
  {
   "cell_type": "code",
   "execution_count": 155,
   "metadata": {},
   "outputs": [
    {
     "data": {
      "text/plain": [
       "array([1, 2, 3, 4])"
      ]
     },
     "execution_count": 155,
     "metadata": {},
     "output_type": "execute_result"
    }
   ],
   "source": [
    "A"
   ]
  },
  {
   "cell_type": "code",
   "execution_count": 156,
   "metadata": {},
   "outputs": [
    {
     "data": {
      "text/plain": [
       "array([ 9,  3, -9,  1])"
      ]
     },
     "execution_count": 156,
     "metadata": {},
     "output_type": "execute_result"
    }
   ],
   "source": [
    "B"
   ]
  },
  {
   "cell_type": "markdown",
   "metadata": {},
   "source": [
    "**Element-wise operations**"
   ]
  },
  {
   "cell_type": "code",
   "execution_count": 157,
   "metadata": {},
   "outputs": [
    {
     "data": {
      "text/plain": [
       "array([10,  5, -6,  5])"
      ]
     },
     "execution_count": 157,
     "metadata": {},
     "output_type": "execute_result"
    }
   ],
   "source": [
    "# element-wise addition\n",
    "\n",
    "C=A+B\n",
    "C"
   ]
  },
  {
   "cell_type": "code",
   "execution_count": 158,
   "metadata": {},
   "outputs": [
    {
     "data": {
      "text/plain": [
       "array([-8, -1, 12,  3])"
      ]
     },
     "execution_count": 158,
     "metadata": {},
     "output_type": "execute_result"
    }
   ],
   "source": [
    "# element-wise substraction\n",
    "\n",
    "D=A-B\n",
    "D"
   ]
  },
  {
   "cell_type": "code",
   "execution_count": 159,
   "metadata": {},
   "outputs": [
    {
     "data": {
      "text/plain": [
       "array([  9,   6, -27,   4])"
      ]
     },
     "execution_count": 159,
     "metadata": {},
     "output_type": "execute_result"
    }
   ],
   "source": [
    "# element-wise multiplication\n",
    "\n",
    "E=A*B\n",
    "E"
   ]
  },
  {
   "cell_type": "code",
   "execution_count": 160,
   "metadata": {},
   "outputs": [
    {
     "data": {
      "text/plain": [
       "array([ 0.11111111,  0.66666667, -0.33333333,  4.        ])"
      ]
     },
     "execution_count": 160,
     "metadata": {},
     "output_type": "execute_result"
    }
   ],
   "source": [
    "# element-wise division\n",
    "\n",
    "F=A/B\n",
    "F"
   ]
  },
  {
   "cell_type": "markdown",
   "metadata": {},
   "source": [
    "**Matrix operations**"
   ]
  },
  {
   "cell_type": "code",
   "execution_count": 161,
   "metadata": {},
   "outputs": [
    {
     "data": {
      "text/plain": [
       "array([[0, 1, 2, 3, 4],\n",
       "       [5, 6, 7, 8, 9]])"
      ]
     },
     "execution_count": 161,
     "metadata": {},
     "output_type": "execute_result"
    }
   ],
   "source": [
    "M = np.arange(10).reshape(2,5)\n",
    "M"
   ]
  },
  {
   "cell_type": "code",
   "execution_count": 162,
   "metadata": {},
   "outputs": [
    {
     "data": {
      "text/plain": [
       "array([[5, 5, 8, 1, 8],\n",
       "       [8, 4, 4, 2, 4]])"
      ]
     },
     "execution_count": 162,
     "metadata": {},
     "output_type": "execute_result"
    }
   ],
   "source": [
    "N = np.random.randint(1,10,10).reshape(2,5)\n",
    "N"
   ]
  },
  {
   "cell_type": "code",
   "execution_count": 163,
   "metadata": {},
   "outputs": [
    {
     "ename": "ValueError",
     "evalue": "matmul: Input operand 1 has a mismatch in its core dimension 0, with gufunc signature (n?,k),(k,m?)->(n?,m?) (size 2 is different from 5)",
     "output_type": "error",
     "traceback": [
      "\u001b[0;31m---------------------------------------------------------------------------\u001b[0m",
      "\u001b[0;31mValueError\u001b[0m                                Traceback (most recent call last)",
      "\u001b[0;32m<ipython-input-163-44d83fc2b955>\u001b[0m in \u001b[0;36m<module>\u001b[0;34m\u001b[0m\n\u001b[1;32m      1\u001b[0m \u001b[0;31m# Note: we are performing a matrix multiplication on two 2x5 matrices, which is not possible\u001b[0m\u001b[0;34m\u001b[0m\u001b[0;34m\u001b[0m\u001b[0;34m\u001b[0m\u001b[0m\n\u001b[0;32m----> 2\u001b[0;31m \u001b[0mM\u001b[0m\u001b[0;34m@\u001b[0m\u001b[0mN\u001b[0m\u001b[0;34m\u001b[0m\u001b[0;34m\u001b[0m\u001b[0m\n\u001b[0m",
      "\u001b[0;31mValueError\u001b[0m: matmul: Input operand 1 has a mismatch in its core dimension 0, with gufunc signature (n?,k),(k,m?)->(n?,m?) (size 2 is different from 5)"
     ]
    }
   ],
   "source": [
    "# Note: we are performing a matrix multiplication on two 2x5 matrices, which is not possible\n",
    "M@N"
   ]
  },
  {
   "cell_type": "code",
   "execution_count": 164,
   "metadata": {},
   "outputs": [
    {
     "data": {
      "text/plain": [
       "array([[5, 8],\n",
       "       [5, 4],\n",
       "       [8, 4],\n",
       "       [1, 2],\n",
       "       [8, 4]])"
      ]
     },
     "execution_count": 164,
     "metadata": {},
     "output_type": "execute_result"
    }
   ],
   "source": [
    "# We can transpose one of the matrices to obtain a 5x2 matrix\n",
    "N.T"
   ]
  },
  {
   "cell_type": "code",
   "execution_count": 165,
   "metadata": {},
   "outputs": [
    {
     "data": {
      "text/plain": [
       "array([[ 56,  34],\n",
       "       [191, 144]])"
      ]
     },
     "execution_count": 165,
     "metadata": {},
     "output_type": "execute_result"
    }
   ],
   "source": [
    "# The operation works\n",
    "M@N.T"
   ]
  },
  {
   "cell_type": "markdown",
   "metadata": {},
   "source": [
    "---"
   ]
  }
 ],
 "metadata": {
  "kernelspec": {
   "display_name": "Python 3",
   "language": "python",
   "name": "python3"
  },
  "language_info": {
   "codemirror_mode": {
    "name": "ipython",
    "version": 3
   },
   "file_extension": ".py",
   "mimetype": "text/x-python",
   "name": "python",
   "nbconvert_exporter": "python",
   "pygments_lexer": "ipython3",
   "version": "3.6.7"
  }
 },
 "nbformat": 4,
 "nbformat_minor": 2
}
